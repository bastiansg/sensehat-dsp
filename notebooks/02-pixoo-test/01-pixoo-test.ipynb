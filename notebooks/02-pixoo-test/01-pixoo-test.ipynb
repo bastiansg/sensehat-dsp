{
 "cells": [
  {
   "cell_type": "code",
   "execution_count": null,
   "id": "6134eabe-8973-4987-8bc1-59c5fa49ca30",
   "metadata": {
    "tags": []
   },
   "outputs": [],
   "source": [
    "import numpy as np\n",
    "\n",
    "from sensehat_dsp.pixoo_client.pixoo import Pixoo\n",
    "from sensehat_dsp.pixoo_client.base_images import base_images\n",
    "from sensehat_dsp.pixoo_client.image import cv2pil, scale_image"
   ]
  },
  {
   "cell_type": "code",
   "execution_count": null,
   "id": "8137765e-c070-4a2c-abef-98197b8368a9",
   "metadata": {
    "tags": []
   },
   "outputs": [],
   "source": [
    "pixoo = Pixoo(mac_address=\"11:75:58:19:63:37\")\n",
    "pixoo.connect()\n",
    "\n",
    "pixoo.set_system_brightness(100)"
   ]
  },
  {
   "cell_type": "code",
   "execution_count": null,
   "id": "e989b32a-0546-46f1-885a-92ac9a920704",
   "metadata": {
    "tags": []
   },
   "outputs": [],
   "source": [
    "idx = 0\n",
    "np_image = (np.array(base_images[idx][\"image\"]) * 255).astype(\"uint8\")\n",
    "pil_image = cv2pil(scale_image(np_image, (16, 16)))\n",
    "\n",
    "pixoo.draw_pic(pil_image)"
   ]
  },
  {
   "cell_type": "code",
   "execution_count": null,
   "id": "03c79e3f-0888-41e9-94e6-02ed6b386fe7",
   "metadata": {
    "tags": []
   },
   "outputs": [],
   "source": []
  }
 ],
 "metadata": {
  "kernelspec": {
   "display_name": "Python 3 (ipykernel)",
   "language": "python",
   "name": "python3"
  },
  "language_info": {
   "codemirror_mode": {
    "name": "ipython",
    "version": 3
   },
   "file_extension": ".py",
   "mimetype": "text/x-python",
   "name": "python",
   "nbconvert_exporter": "python",
   "pygments_lexer": "ipython3",
   "version": "3.9.2"
  }
 },
 "nbformat": 4,
 "nbformat_minor": 5
}
