{
 "cells": [
  {
   "cell_type": "code",
   "execution_count": null,
   "id": "6134eabe-8973-4987-8bc1-59c5fa49ca30",
   "metadata": {
    "tags": []
   },
   "outputs": [],
   "source": [
    "import numpy as np\n",
    "\n",
    "from time import sleep\n",
    "from itertools import cycle\n",
    "\n",
    "# from sensehat_dsp.display import dsp_images\n",
    "from sensehat_dsp.pixoo_client.pixoo import Pixoo\n",
    "from sensehat_dsp.pixoo_client.base_images import base_images\n",
    "from sensehat_dsp.pixoo_client.image import cv2pil, scale_image"
   ]
  },
  {
   "cell_type": "code",
   "execution_count": null,
   "id": "f95e48cf-6063-4fb0-95f8-21d1b46151d4",
   "metadata": {
    "tags": []
   },
   "outputs": [],
   "source": [
    "def get_np_image(base_image: dict) -> np.ndarray:\n",
    "    raw_image = [\n",
    "        base_image[\"d-color\"] if pix else base_image[\"l-color\"]\n",
    "        for pix in base_image[\"image\"]\n",
    "    ]\n",
    "\n",
    "    np_image = np.array(raw_image).astype(\"uint8\")\n",
    "    np_image = np_image.reshape(8, 8, 3)\n",
    "\n",
    "    return np_image"
   ]
  },
  {
   "cell_type": "code",
   "execution_count": null,
   "id": "8137765e-c070-4a2c-abef-98197b8368a9",
   "metadata": {
    "tags": []
   },
   "outputs": [],
   "source": [
    "pixoo = Pixoo(mac_address=\"11:75:58:19:63:37\")\n",
    "pixoo.connect()\n",
    "\n",
    "pixoo.set_system_brightness(100)"
   ]
  },
  {
   "cell_type": "code",
   "execution_count": null,
   "id": "657d54d6-b80b-447b-874e-6a3590bcbbe9",
   "metadata": {
    "tags": []
   },
   "outputs": [],
   "source": [
    "# np_image = get_np_image(dsp_images[-1])\n",
    "# pil_image = cv2pil(scale_image(np_image, (16, 16)))\n",
    "# pixoo.draw_pic(pil_image)"
   ]
  },
  {
   "cell_type": "code",
   "execution_count": null,
   "id": "e989b32a-0546-46f1-885a-92ac9a920704",
   "metadata": {
    "tags": []
   },
   "outputs": [],
   "source": [
    "for base_image in cycle(base_images):\n",
    "    np_image = get_np_image(base_image)\n",
    "    pil_image = cv2pil(scale_image(np_image, (16, 16)))\n",
    "    pixoo.draw_pic(pil_image)\n",
    "    sleep(1)"
   ]
  },
  {
   "cell_type": "code",
   "execution_count": null,
   "id": "9fb89679-50d0-4226-a37d-72231e6b12a4",
   "metadata": {},
   "outputs": [],
   "source": []
  }
 ],
 "metadata": {
  "kernelspec": {
   "display_name": "Python 3 (ipykernel)",
   "language": "python",
   "name": "python3"
  },
  "language_info": {
   "codemirror_mode": {
    "name": "ipython",
    "version": 3
   },
   "file_extension": ".py",
   "mimetype": "text/x-python",
   "name": "python",
   "nbconvert_exporter": "python",
   "pygments_lexer": "ipython3",
   "version": "3.9.2"
  }
 },
 "nbformat": 4,
 "nbformat_minor": 5
}
