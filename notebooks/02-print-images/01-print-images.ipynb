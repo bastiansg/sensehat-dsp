{
 "cells": [
  {
   "cell_type": "code",
   "execution_count": 1,
   "id": "1d4392bf",
   "metadata": {},
   "outputs": [],
   "source": [
    "import numpy as np\n",
    "from tqdm import tqdm\n",
    "\n",
    "from PIL import Image\n",
    "from PIL.Image import Resampling\n",
    "\n",
    "from common.utils.path import create_path\n",
    "from sensehat_dsp.display import dsp_images"
   ]
  },
  {
   "cell_type": "code",
   "execution_count": 2,
   "id": "847d4010",
   "metadata": {},
   "outputs": [],
   "source": [
    "image_size = 512\n",
    "out_path = \"/resources/images\"\n",
    "create_path(path=out_path, overwrite=True)"
   ]
  },
  {
   "cell_type": "code",
   "execution_count": 3,
   "id": "5d62e6c6",
   "metadata": {},
   "outputs": [],
   "source": [
    "def get_rgb_value(color: dict) -> list:\n",
    "    return [color[\"r\"], color[\"g\"], color[\"b\"]]"
   ]
  },
  {
   "cell_type": "code",
   "execution_count": null,
   "id": "b3f86c55",
   "metadata": {},
   "outputs": [],
   "source": [
    "def get_pil_image(image_item: dict) -> Image.Image:\n",
    "    rgb_image = [\n",
    "        get_rgb_value(color=image_item[\"p_color\"])\n",
    "        if pixel\n",
    "        else get_rgb_value(color=image_item[\"s_color\"])\n",
    "        for pixel in image_item[\"image\"]\n",
    "    ]\n",
    "\n",
    "    np_image = np.array(rgb_image, dtype=np.uint8).reshape(8, 8, 3)\n",
    "    return Image.fromarray(np_image).resize(\n",
    "        (image_size, image_size),\n",
    "        resample=Resampling.NEAREST,\n",
    "    )"
   ]
  },
  {
   "cell_type": "code",
   "execution_count": null,
   "id": "28621744",
   "metadata": {},
   "outputs": [],
   "source": [
    "for image_item in tqdm(dsp_images):\n",
    "    pil_image = get_pil_image(image_item=image_item)\n",
    "    pil_image.save(f\"{out_path}/{image_item['name']}.jpg\")\n"
   ]
  },
  {
   "cell_type": "code",
   "execution_count": null,
   "id": "66394fb7",
   "metadata": {},
   "outputs": [],
   "source": []
  }
 ],
 "metadata": {
  "kernelspec": {
   "display_name": "Python 3",
   "language": "python",
   "name": "python3"
  },
  "language_info": {
   "codemirror_mode": {
    "name": "ipython",
    "version": 3
   },
   "file_extension": ".py",
   "mimetype": "text/x-python",
   "name": "python",
   "nbconvert_exporter": "python",
   "pygments_lexer": "ipython3",
   "version": "3.11.2"
  }
 },
 "nbformat": 4,
 "nbformat_minor": 5
}
