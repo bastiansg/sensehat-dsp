{
 "cells": [
  {
   "cell_type": "code",
   "execution_count": 1,
   "id": "80d2136a-60cd-4b13-a971-9fe8f475158f",
   "metadata": {
    "execution": {
     "iopub.execute_input": "2022-11-06T21:50:48.480760Z",
     "iopub.status.busy": "2022-11-06T21:50:48.478624Z",
     "iopub.status.idle": "2022-11-06T21:50:48.923732Z",
     "shell.execute_reply": "2022-11-06T21:50:48.921866Z",
     "shell.execute_reply.started": "2022-11-06T21:50:48.480479Z"
    },
    "tags": []
   },
   "outputs": [],
   "source": [
    "import random\n",
    "\n",
    "from time import sleep\n",
    "from rich.progress import track\n",
    "\n",
    "from sensehat_dsp.display import Display"
   ]
  },
  {
   "cell_type": "code",
   "execution_count": 2,
   "id": "35b00f76-0703-4fee-bb5d-06f9e092e661",
   "metadata": {
    "execution": {
     "iopub.execute_input": "2022-11-06T21:50:48.929783Z",
     "iopub.status.busy": "2022-11-06T21:50:48.928554Z",
     "iopub.status.idle": "2022-11-06T21:50:49.015749Z",
     "shell.execute_reply": "2022-11-06T21:50:49.013554Z",
     "shell.execute_reply.started": "2022-11-06T21:50:48.929689Z"
    },
    "tags": []
   },
   "outputs": [
    {
     "data": {
      "text/html": [
       "<pre style=\"white-space:pre;overflow-x:auto;line-height:normal;font-family:Menlo,'DejaVu Sans Mono',consolas,'Courier New',monospace\"><span style=\"color: #7fbfbf; text-decoration-color: #7fbfbf\">[21:50:48] </span><span style=\"color: #800000; text-decoration-color: #800000\">WARNING </span> Failed to initialise TCS34725 colour sensor. <span style=\"font-weight: bold\">(</span>sensor not present<span style=\"font-weight: bold\">)</span>              <a href=\"file:///usr/lib/python3/dist-packages/sense_hat/sense_hat.py\" target=\"_blank\"><span style=\"color: #7f7f7f; text-decoration-color: #7f7f7f\">sense_hat.py</span></a><span style=\"color: #7f7f7f; text-decoration-color: #7f7f7f\">:</span><a href=\"file:///usr/lib/python3/dist-packages/sense_hat/sense_hat.py#100\" target=\"_blank\"><span style=\"color: #7f7f7f; text-decoration-color: #7f7f7f\">100</span></a>\n",
       "</pre>\n"
      ],
      "text/plain": [
       "\u001b[2;36m[21:50:48]\u001b[0m\u001b[2;36m \u001b[0m\u001b[31mWARNING \u001b[0m Failed to initialise TCS34725 colour sensor. \u001b[1m(\u001b[0msensor not present\u001b[1m)\u001b[0m              \u001b]8;id=717860;file:///usr/lib/python3/dist-packages/sense_hat/sense_hat.py\u001b\\\u001b[2msense_hat.py\u001b[0m\u001b]8;;\u001b\\\u001b[2m:\u001b[0m\u001b]8;id=916767;file:///usr/lib/python3/dist-packages/sense_hat/sense_hat.py#100\u001b\\\u001b[2m100\u001b[0m\u001b]8;;\u001b\\\n"
      ]
     },
     "metadata": {},
     "output_type": "display_data"
    },
    {
     "data": {
      "text/html": [
       "<pre style=\"white-space:pre;overflow-x:auto;line-height:normal;font-family:Menlo,'DejaVu Sans Mono',consolas,'Courier New',monospace\"><span style=\"color: #7fbfbf; text-decoration-color: #7fbfbf\">[21:50:49] </span><span style=\"color: #000080; text-decoration-color: #000080\">INFO    </span> loading images                                                                    <a href=\"file:///src/sensehat_dsp/sensehat_dsp/display/display.py\" target=\"_blank\"><span style=\"color: #7f7f7f; text-decoration-color: #7f7f7f\">display.py</span></a><span style=\"color: #7f7f7f; text-decoration-color: #7f7f7f\">:</span><a href=\"file:///src/sensehat_dsp/sensehat_dsp/display/display.py#27\" target=\"_blank\"><span style=\"color: #7f7f7f; text-decoration-color: #7f7f7f\">27</span></a>\n",
       "</pre>\n"
      ],
      "text/plain": [
       "\u001b[2;36m[21:50:49]\u001b[0m\u001b[2;36m \u001b[0m\u001b[34mINFO    \u001b[0m loading images                                                                    \u001b]8;id=141292;file:///src/sensehat_dsp/sensehat_dsp/display/display.py\u001b\\\u001b[2mdisplay.py\u001b[0m\u001b]8;;\u001b\\\u001b[2m:\u001b[0m\u001b]8;id=890757;file:///src/sensehat_dsp/sensehat_dsp/display/display.py#27\u001b\\\u001b[2m27\u001b[0m\u001b]8;;\u001b\\\n"
      ]
     },
     "metadata": {},
     "output_type": "display_data"
    }
   ],
   "source": [
    "dsp = Display()\n",
    "image_names = list(dsp.images.keys())"
   ]
  },
  {
   "cell_type": "code",
   "execution_count": 3,
   "id": "8f9dce43-a731-41c4-9bae-863ac81c861f",
   "metadata": {
    "execution": {
     "iopub.execute_input": "2022-11-06T21:50:49.032525Z",
     "iopub.status.busy": "2022-11-06T21:50:49.031498Z",
     "iopub.status.idle": "2022-11-06T21:50:51.101454Z",
     "shell.execute_reply": "2022-11-06T21:50:51.099187Z",
     "shell.execute_reply.started": "2022-11-06T21:50:49.032427Z"
    },
    "tags": []
   },
   "outputs": [
    {
     "data": {
      "application/vnd.jupyter.widget-view+json": {
       "model_id": "e9222966e11342e48b21d2d97387bec7",
       "version_major": 2,
       "version_minor": 0
      },
      "text/plain": [
       "Output()"
      ]
     },
     "metadata": {},
     "output_type": "display_data"
    },
    {
     "data": {
      "text/html": [
       "<pre style=\"white-space:pre;overflow-x:auto;line-height:normal;font-family:Menlo,'DejaVu Sans Mono',consolas,'Courier New',monospace\"></pre>\n"
      ],
      "text/plain": []
     },
     "metadata": {},
     "output_type": "display_data"
    },
    {
     "data": {
      "text/html": [
       "<pre style=\"white-space:pre;overflow-x:auto;line-height:normal;font-family:Menlo,'DejaVu Sans Mono',consolas,'Courier New',monospace\">\n",
       "</pre>\n"
      ],
      "text/plain": [
       "\n"
      ]
     },
     "metadata": {},
     "output_type": "display_data"
    }
   ],
   "source": [
    "for image_name in track(dsp.images.keys(), description=\"\"):\n",
    "    dsp.set_image(image_name)\n",
    "    sleep(0.2)"
   ]
  },
  {
   "cell_type": "code",
   "execution_count": 4,
   "id": "a72ecb6a-fe5f-4748-8ff5-5a704e986c32",
   "metadata": {
    "execution": {
     "iopub.execute_input": "2022-11-06T21:51:26.914918Z",
     "iopub.status.busy": "2022-11-06T21:51:26.913991Z",
     "iopub.status.idle": "2022-11-06T21:51:31.931318Z",
     "shell.execute_reply": "2022-11-06T21:51:31.929517Z",
     "shell.execute_reply.started": "2022-11-06T21:51:26.914842Z"
    },
    "tags": []
   },
   "outputs": [],
   "source": [
    "image_name = random.choice(image_names)\n",
    "dsp.start_intermittent_image(image_name, 0.5)\n",
    "sleep(5)\n",
    "dsp.stop_intermittent_image()"
   ]
  },
  {
   "cell_type": "code",
   "execution_count": 5,
   "id": "a3dd19d7-44b6-42bd-9a62-17538264b9eb",
   "metadata": {
    "execution": {
     "iopub.execute_input": "2022-11-06T21:51:32.473581Z",
     "iopub.status.busy": "2022-11-06T21:51:32.472699Z",
     "iopub.status.idle": "2022-11-06T21:51:37.489609Z",
     "shell.execute_reply": "2022-11-06T21:51:37.487256Z",
     "shell.execute_reply.started": "2022-11-06T21:51:32.473509Z"
    }
   },
   "outputs": [],
   "source": [
    "image_name = random.choice(image_names)\n",
    "dsp.start_color_cycle(image_name)\n",
    "sleep(5)\n",
    "dsp.stop_color_cycle()"
   ]
  },
  {
   "cell_type": "code",
   "execution_count": null,
   "id": "44f0a667-23d4-4566-b1da-54f3cf726386",
   "metadata": {},
   "outputs": [],
   "source": []
  }
 ],
 "metadata": {
  "kernelspec": {
   "display_name": "Python 3 (ipykernel)",
   "language": "python",
   "name": "python3"
  },
  "language_info": {
   "codemirror_mode": {
    "name": "ipython",
    "version": 3
   },
   "file_extension": ".py",
   "mimetype": "text/x-python",
   "name": "python",
   "nbconvert_exporter": "python",
   "pygments_lexer": "ipython3",
   "version": "3.9.2"
  }
 },
 "nbformat": 4,
 "nbformat_minor": 5
}
