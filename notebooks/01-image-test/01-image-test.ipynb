{
 "cells": [
  {
   "cell_type": "code",
   "execution_count": 1,
   "id": "80d2136a-60cd-4b13-a971-9fe8f475158f",
   "metadata": {
    "execution": {
     "iopub.execute_input": "2022-11-06T18:21:00.321520Z",
     "iopub.status.busy": "2022-11-06T18:21:00.319461Z",
     "iopub.status.idle": "2022-11-06T18:21:01.183748Z",
     "shell.execute_reply": "2022-11-06T18:21:01.179581Z",
     "shell.execute_reply.started": "2022-11-06T18:21:00.321166Z"
    },
    "tags": []
   },
   "outputs": [],
   "source": [
    "import random\n",
    "\n",
    "from time import sleep\n",
    "from rich.progress import track\n",
    "\n",
    "from sensehat_dsp.display import Display"
   ]
  },
  {
   "cell_type": "code",
   "execution_count": 2,
   "id": "35b00f76-0703-4fee-bb5d-06f9e092e661",
   "metadata": {
    "execution": {
     "iopub.execute_input": "2022-11-06T18:21:03.513298Z",
     "iopub.status.busy": "2022-11-06T18:21:03.511653Z",
     "iopub.status.idle": "2022-11-06T18:21:03.679464Z",
     "shell.execute_reply": "2022-11-06T18:21:03.674750Z",
     "shell.execute_reply.started": "2022-11-06T18:21:03.513148Z"
    },
    "tags": []
   },
   "outputs": [
    {
     "data": {
      "text/html": [
       "<pre style=\"white-space:pre;overflow-x:auto;line-height:normal;font-family:Menlo,'DejaVu Sans Mono',consolas,'Courier New',monospace\"><span style=\"color: #7fbfbf; text-decoration-color: #7fbfbf\">[18:21:03] </span><span style=\"color: #800000; text-decoration-color: #800000\">WARNING </span> Failed to initialise TCS34725 colour sensor. <span style=\"font-weight: bold\">(</span>sensor not present<span style=\"font-weight: bold\">)</span>              <a href=\"file:///usr/lib/python3/dist-packages/sense_hat/sense_hat.py\" target=\"_blank\"><span style=\"color: #7f7f7f; text-decoration-color: #7f7f7f\">sense_hat.py</span></a><span style=\"color: #7f7f7f; text-decoration-color: #7f7f7f\">:</span><a href=\"file:///usr/lib/python3/dist-packages/sense_hat/sense_hat.py#100\" target=\"_blank\"><span style=\"color: #7f7f7f; text-decoration-color: #7f7f7f\">100</span></a>\n",
       "</pre>\n"
      ],
      "text/plain": [
       "\u001b[2;36m[18:21:03]\u001b[0m\u001b[2;36m \u001b[0m\u001b[31mWARNING \u001b[0m Failed to initialise TCS34725 colour sensor. \u001b[1m(\u001b[0msensor not present\u001b[1m)\u001b[0m              \u001b]8;id=442414;file:///usr/lib/python3/dist-packages/sense_hat/sense_hat.py\u001b\\\u001b[2msense_hat.py\u001b[0m\u001b]8;;\u001b\\\u001b[2m:\u001b[0m\u001b]8;id=700910;file:///usr/lib/python3/dist-packages/sense_hat/sense_hat.py#100\u001b\\\u001b[2m100\u001b[0m\u001b]8;;\u001b\\\n"
      ]
     },
     "metadata": {},
     "output_type": "display_data"
    },
    {
     "data": {
      "text/html": [
       "<pre style=\"white-space:pre;overflow-x:auto;line-height:normal;font-family:Menlo,'DejaVu Sans Mono',consolas,'Courier New',monospace\"><span style=\"color: #7fbfbf; text-decoration-color: #7fbfbf\">           </span><span style=\"color: #000080; text-decoration-color: #000080\">INFO    </span> loading images                                                                    <a href=\"file:///src/sensehat_dsp/sensehat_dsp/display/display.py\" target=\"_blank\"><span style=\"color: #7f7f7f; text-decoration-color: #7f7f7f\">display.py</span></a><span style=\"color: #7f7f7f; text-decoration-color: #7f7f7f\">:</span><a href=\"file:///src/sensehat_dsp/sensehat_dsp/display/display.py#28\" target=\"_blank\"><span style=\"color: #7f7f7f; text-decoration-color: #7f7f7f\">28</span></a>\n",
       "</pre>\n"
      ],
      "text/plain": [
       "\u001b[2;36m          \u001b[0m\u001b[2;36m \u001b[0m\u001b[34mINFO    \u001b[0m loading images                                                                    \u001b]8;id=771093;file:///src/sensehat_dsp/sensehat_dsp/display/display.py\u001b\\\u001b[2mdisplay.py\u001b[0m\u001b]8;;\u001b\\\u001b[2m:\u001b[0m\u001b]8;id=95655;file:///src/sensehat_dsp/sensehat_dsp/display/display.py#28\u001b\\\u001b[2m28\u001b[0m\u001b]8;;\u001b\\\n"
      ]
     },
     "metadata": {},
     "output_type": "display_data"
    }
   ],
   "source": [
    "dsp = Display()"
   ]
  },
  {
   "cell_type": "code",
   "execution_count": 3,
   "id": "8f9dce43-a731-41c4-9bae-863ac81c861f",
   "metadata": {
    "execution": {
     "iopub.execute_input": "2022-11-06T18:21:04.201261Z",
     "iopub.status.busy": "2022-11-06T18:21:04.199613Z",
     "iopub.status.idle": "2022-11-06T18:21:06.583700Z",
     "shell.execute_reply": "2022-11-06T18:21:06.578783Z",
     "shell.execute_reply.started": "2022-11-06T18:21:04.201118Z"
    },
    "tags": []
   },
   "outputs": [
    {
     "data": {
      "application/vnd.jupyter.widget-view+json": {
       "model_id": "9699389e897741dc8d37bd76ccde1f33",
       "version_major": 2,
       "version_minor": 0
      },
      "text/plain": [
       "Output()"
      ]
     },
     "metadata": {},
     "output_type": "display_data"
    },
    {
     "data": {
      "text/html": [
       "<pre style=\"white-space:pre;overflow-x:auto;line-height:normal;font-family:Menlo,'DejaVu Sans Mono',consolas,'Courier New',monospace\"></pre>\n"
      ],
      "text/plain": []
     },
     "metadata": {},
     "output_type": "display_data"
    },
    {
     "data": {
      "text/html": [
       "<pre style=\"white-space:pre;overflow-x:auto;line-height:normal;font-family:Menlo,'DejaVu Sans Mono',consolas,'Courier New',monospace\">\n",
       "</pre>\n"
      ],
      "text/plain": [
       "\n"
      ]
     },
     "metadata": {},
     "output_type": "display_data"
    }
   ],
   "source": [
    "image_names = list(dsp.images.keys())\n",
    "for image_name in track(dsp.images.keys(), description=\"\"):\n",
    "    dsp.set_image(image_name)\n",
    "    sleep(0.2)"
   ]
  },
  {
   "cell_type": "code",
   "execution_count": 4,
   "id": "a72ecb6a-fe5f-4748-8ff5-5a704e986c32",
   "metadata": {
    "execution": {
     "iopub.execute_input": "2022-11-06T18:21:07.915603Z",
     "iopub.status.busy": "2022-11-06T18:21:07.914183Z",
     "iopub.status.idle": "2022-11-06T18:21:12.945450Z",
     "shell.execute_reply": "2022-11-06T18:21:12.938482Z",
     "shell.execute_reply.started": "2022-11-06T18:21:07.915468Z"
    },
    "tags": []
   },
   "outputs": [],
   "source": [
    "image_name = random.choice(image_names)\n",
    "dsp.start_intermittent_image(image_name, 0.5)\n",
    "sleep(5)\n",
    "dsp.stop_intermittent_image()"
   ]
  },
  {
   "cell_type": "code",
   "execution_count": 5,
   "id": "a3dd19d7-44b6-42bd-9a62-17538264b9eb",
   "metadata": {
    "execution": {
     "iopub.execute_input": "2022-11-06T18:21:13.514076Z",
     "iopub.status.busy": "2022-11-06T18:21:13.510424Z",
     "iopub.status.idle": "2022-11-06T18:21:18.576002Z",
     "shell.execute_reply": "2022-11-06T18:21:18.566930Z",
     "shell.execute_reply.started": "2022-11-06T18:21:13.513793Z"
    }
   },
   "outputs": [],
   "source": [
    "image_name = random.choice(image_names)\n",
    "dsp.start_color_cycle(image_name)\n",
    "sleep(5)\n",
    "dsp.stop_color_cycle()"
   ]
  },
  {
   "cell_type": "code",
   "execution_count": null,
   "id": "44f0a667-23d4-4566-b1da-54f3cf726386",
   "metadata": {},
   "outputs": [],
   "source": []
  }
 ],
 "metadata": {
  "kernelspec": {
   "display_name": "Python 3 (ipykernel)",
   "language": "python",
   "name": "python3"
  },
  "language_info": {
   "codemirror_mode": {
    "name": "ipython",
    "version": 3
   },
   "file_extension": ".py",
   "mimetype": "text/x-python",
   "name": "python",
   "nbconvert_exporter": "python",
   "pygments_lexer": "ipython3",
   "version": "3.9.2"
  }
 },
 "nbformat": 4,
 "nbformat_minor": 5
}
