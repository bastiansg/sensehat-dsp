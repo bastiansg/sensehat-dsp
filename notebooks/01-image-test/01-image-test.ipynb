{
 "cells": [
  {
   "cell_type": "code",
   "execution_count": null,
   "id": "80d2136a-60cd-4b13-a971-9fe8f475158f",
   "metadata": {
    "tags": []
   },
   "outputs": [],
   "source": [
    "import random\n",
    "\n",
    "from time import sleep\n",
    "from rich.progress import track\n",
    "\n",
    "from sensehat_dsp.display import Display\n",
    "from sensehat_dsp.pixoo_client import Pixoo\n",
    "from sensehat_dsp.meta.data_models import Image, IntermittentImage"
   ]
  },
  {
   "cell_type": "code",
   "execution_count": null,
   "id": "35b00f76-0703-4fee-bb5d-06f9e092e661",
   "metadata": {
    "tags": []
   },
   "outputs": [],
   "source": [
    "dsp = Display()\n",
    "image_names = list(dsp.images.keys())"
   ]
  },
  {
   "cell_type": "code",
   "execution_count": null,
   "id": "5af472ce-2bdf-47c0-b77c-aacf5637e148",
   "metadata": {},
   "outputs": [],
   "source": [
    "dsp.set_image(Image(name=image_name))"
   ]
  },
  {
   "cell_type": "code",
   "execution_count": null,
   "id": "8f9dce43-a731-41c4-9bae-863ac81c861f",
   "metadata": {
    "tags": []
   },
   "outputs": [],
   "source": [
    "for image_name in track(dsp.images.keys(), description=\"\"):\n",
    "    image = Image(name=image_name)\n",
    "    dsp.set_image(image)\n",
    "    sleep(0.25)"
   ]
  },
  {
   "cell_type": "code",
   "execution_count": null,
   "id": "a72ecb6a-fe5f-4748-8ff5-5a704e986c32",
   "metadata": {
    "tags": []
   },
   "outputs": [],
   "source": [
    "image_name = random.choice(image_names)\n",
    "int_image = IntermittentImage(name=image_name, refresh_rate=0.5)\n",
    "dsp.start_intermittent_image(int_image)\n",
    "sleep(5)\n",
    "dsp.stop_intermittent_image()"
   ]
  },
  {
   "cell_type": "code",
   "execution_count": null,
   "id": "a3dd19d7-44b6-42bd-9a62-17538264b9eb",
   "metadata": {
    "tags": []
   },
   "outputs": [],
   "source": [
    "image_name = random.choice(image_names)\n",
    "image = Image(name=image_name)\n",
    "dsp.start_color_cycle(image)\n",
    "sleep(10)\n",
    "dsp.stop_color_cycle()"
   ]
  },
  {
   "cell_type": "code",
   "execution_count": null,
   "id": "36c9f987-6803-4c63-bd66-e82ae3a06d23",
   "metadata": {},
   "outputs": [],
   "source": []
  }
 ],
 "metadata": {
  "kernelspec": {
   "display_name": "Python 3 (ipykernel)",
   "language": "python",
   "name": "python3"
  },
  "language_info": {
   "codemirror_mode": {
    "name": "ipython",
    "version": 3
   },
   "file_extension": ".py",
   "mimetype": "text/x-python",
   "name": "python",
   "nbconvert_exporter": "python",
   "pygments_lexer": "ipython3",
   "version": "3.9.2"
  }
 },
 "nbformat": 4,
 "nbformat_minor": 5
}
