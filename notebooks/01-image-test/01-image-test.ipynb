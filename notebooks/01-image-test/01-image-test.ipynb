{
 "cells": [
  {
   "cell_type": "code",
   "execution_count": 1,
   "id": "80d2136a-60cd-4b13-a971-9fe8f475158f",
   "metadata": {
    "execution": {
     "iopub.execute_input": "2022-11-06T18:37:08.184105Z",
     "iopub.status.busy": "2022-11-06T18:37:08.181811Z",
     "iopub.status.idle": "2022-11-06T18:37:09.207108Z",
     "shell.execute_reply": "2022-11-06T18:37:09.202764Z",
     "shell.execute_reply.started": "2022-11-06T18:37:08.183679Z"
    },
    "tags": []
   },
   "outputs": [],
   "source": [
    "import random\n",
    "\n",
    "from time import sleep\n",
    "from rich.progress import track\n",
    "\n",
    "from sensehat_dsp.display import Display"
   ]
  },
  {
   "cell_type": "code",
   "execution_count": 2,
   "id": "35b00f76-0703-4fee-bb5d-06f9e092e661",
   "metadata": {
    "execution": {
     "iopub.execute_input": "2022-11-06T18:37:09.680761Z",
     "iopub.status.busy": "2022-11-06T18:37:09.676590Z",
     "iopub.status.idle": "2022-11-06T18:37:09.862093Z",
     "shell.execute_reply": "2022-11-06T18:37:09.857748Z",
     "shell.execute_reply.started": "2022-11-06T18:37:09.680570Z"
    },
    "tags": []
   },
   "outputs": [
    {
     "data": {
      "text/html": [
       "<pre style=\"white-space:pre;overflow-x:auto;line-height:normal;font-family:Menlo,'DejaVu Sans Mono',consolas,'Courier New',monospace\"><span style=\"color: #7fbfbf; text-decoration-color: #7fbfbf\">[18:37:09] </span><span style=\"color: #800000; text-decoration-color: #800000\">WARNING </span> Failed to initialise TCS34725 colour sensor. <span style=\"font-weight: bold\">(</span>sensor not present<span style=\"font-weight: bold\">)</span>              <a href=\"file:///usr/lib/python3/dist-packages/sense_hat/sense_hat.py\" target=\"_blank\"><span style=\"color: #7f7f7f; text-decoration-color: #7f7f7f\">sense_hat.py</span></a><span style=\"color: #7f7f7f; text-decoration-color: #7f7f7f\">:</span><a href=\"file:///usr/lib/python3/dist-packages/sense_hat/sense_hat.py#100\" target=\"_blank\"><span style=\"color: #7f7f7f; text-decoration-color: #7f7f7f\">100</span></a>\n",
       "</pre>\n"
      ],
      "text/plain": [
       "\u001b[2;36m[18:37:09]\u001b[0m\u001b[2;36m \u001b[0m\u001b[31mWARNING \u001b[0m Failed to initialise TCS34725 colour sensor. \u001b[1m(\u001b[0msensor not present\u001b[1m)\u001b[0m              \u001b]8;id=760215;file:///usr/lib/python3/dist-packages/sense_hat/sense_hat.py\u001b\\\u001b[2msense_hat.py\u001b[0m\u001b]8;;\u001b\\\u001b[2m:\u001b[0m\u001b]8;id=214664;file:///usr/lib/python3/dist-packages/sense_hat/sense_hat.py#100\u001b\\\u001b[2m100\u001b[0m\u001b]8;;\u001b\\\n"
      ]
     },
     "metadata": {},
     "output_type": "display_data"
    },
    {
     "data": {
      "text/html": [
       "<pre style=\"white-space:pre;overflow-x:auto;line-height:normal;font-family:Menlo,'DejaVu Sans Mono',consolas,'Courier New',monospace\"><span style=\"color: #7fbfbf; text-decoration-color: #7fbfbf\">           </span><span style=\"color: #000080; text-decoration-color: #000080\">INFO    </span> loading images                                                                    <a href=\"file:///src/sensehat_dsp/sensehat_dsp/display/display.py\" target=\"_blank\"><span style=\"color: #7f7f7f; text-decoration-color: #7f7f7f\">display.py</span></a><span style=\"color: #7f7f7f; text-decoration-color: #7f7f7f\">:</span><a href=\"file:///src/sensehat_dsp/sensehat_dsp/display/display.py#29\" target=\"_blank\"><span style=\"color: #7f7f7f; text-decoration-color: #7f7f7f\">29</span></a>\n",
       "</pre>\n"
      ],
      "text/plain": [
       "\u001b[2;36m          \u001b[0m\u001b[2;36m \u001b[0m\u001b[34mINFO    \u001b[0m loading images                                                                    \u001b]8;id=611925;file:///src/sensehat_dsp/sensehat_dsp/display/display.py\u001b\\\u001b[2mdisplay.py\u001b[0m\u001b]8;;\u001b\\\u001b[2m:\u001b[0m\u001b]8;id=614603;file:///src/sensehat_dsp/sensehat_dsp/display/display.py#29\u001b\\\u001b[2m29\u001b[0m\u001b]8;;\u001b\\\n"
      ]
     },
     "metadata": {},
     "output_type": "display_data"
    }
   ],
   "source": [
    "dsp = Display()"
   ]
  },
  {
   "cell_type": "code",
   "execution_count": 3,
   "id": "8f9dce43-a731-41c4-9bae-863ac81c861f",
   "metadata": {
    "execution": {
     "iopub.execute_input": "2022-11-06T18:37:10.943504Z",
     "iopub.status.busy": "2022-11-06T18:37:10.941982Z",
     "iopub.status.idle": "2022-11-06T18:37:13.408563Z",
     "shell.execute_reply": "2022-11-06T18:37:13.403164Z",
     "shell.execute_reply.started": "2022-11-06T18:37:10.943359Z"
    },
    "tags": []
   },
   "outputs": [
    {
     "data": {
      "application/vnd.jupyter.widget-view+json": {
       "model_id": "0d1b2ba05b7643fb8a51249f5befd5ff",
       "version_major": 2,
       "version_minor": 0
      },
      "text/plain": [
       "Output()"
      ]
     },
     "metadata": {},
     "output_type": "display_data"
    },
    {
     "data": {
      "text/html": [
       "<pre style=\"white-space:pre;overflow-x:auto;line-height:normal;font-family:Menlo,'DejaVu Sans Mono',consolas,'Courier New',monospace\"></pre>\n"
      ],
      "text/plain": []
     },
     "metadata": {},
     "output_type": "display_data"
    },
    {
     "data": {
      "text/html": [
       "<pre style=\"white-space:pre;overflow-x:auto;line-height:normal;font-family:Menlo,'DejaVu Sans Mono',consolas,'Courier New',monospace\">\n",
       "</pre>\n"
      ],
      "text/plain": [
       "\n"
      ]
     },
     "metadata": {},
     "output_type": "display_data"
    }
   ],
   "source": [
    "image_names = list(dsp.images.keys())\n",
    "for image_name in track(dsp.images.keys(), description=\"\"):\n",
    "    dsp.set_image(image_name)\n",
    "    sleep(0.2)"
   ]
  },
  {
   "cell_type": "code",
   "execution_count": 4,
   "id": "a72ecb6a-fe5f-4748-8ff5-5a704e986c32",
   "metadata": {
    "execution": {
     "iopub.execute_input": "2022-11-06T18:37:15.165519Z",
     "iopub.status.busy": "2022-11-06T18:37:15.163846Z",
     "iopub.status.idle": "2022-11-06T18:37:20.199265Z",
     "shell.execute_reply": "2022-11-06T18:37:20.192222Z",
     "shell.execute_reply.started": "2022-11-06T18:37:15.165378Z"
    },
    "tags": []
   },
   "outputs": [],
   "source": [
    "image_name = random.choice(image_names)\n",
    "dsp.start_intermittent_image(image_name, 0.5)\n",
    "sleep(5)\n",
    "dsp.stop_intermittent_image()"
   ]
  },
  {
   "cell_type": "code",
   "execution_count": 5,
   "id": "a3dd19d7-44b6-42bd-9a62-17538264b9eb",
   "metadata": {
    "execution": {
     "iopub.execute_input": "2022-11-06T18:37:20.929573Z",
     "iopub.status.busy": "2022-11-06T18:37:20.922371Z",
     "iopub.status.idle": "2022-11-06T18:37:25.968728Z",
     "shell.execute_reply": "2022-11-06T18:37:25.964347Z",
     "shell.execute_reply.started": "2022-11-06T18:37:20.929240Z"
    }
   },
   "outputs": [],
   "source": [
    "image_name = random.choice(image_names)\n",
    "dsp.start_color_cycle(image_name)\n",
    "sleep(5)\n",
    "dsp.stop_color_cycle()"
   ]
  },
  {
   "cell_type": "code",
   "execution_count": null,
   "id": "44f0a667-23d4-4566-b1da-54f3cf726386",
   "metadata": {},
   "outputs": [],
   "source": []
  }
 ],
 "metadata": {
  "kernelspec": {
   "display_name": "Python 3 (ipykernel)",
   "language": "python",
   "name": "python3"
  },
  "language_info": {
   "codemirror_mode": {
    "name": "ipython",
    "version": 3
   },
   "file_extension": ".py",
   "mimetype": "text/x-python",
   "name": "python",
   "nbconvert_exporter": "python",
   "pygments_lexer": "ipython3",
   "version": "3.9.2"
  }
 },
 "nbformat": 4,
 "nbformat_minor": 5
}
