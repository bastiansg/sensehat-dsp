{
 "cells": [
  {
   "cell_type": "code",
   "execution_count": null,
   "id": "80d2136a-60cd-4b13-a971-9fe8f475158f",
   "metadata": {
    "tags": []
   },
   "outputs": [],
   "source": [
    "from sensehat_dps.display import Display"
   ]
  },
  {
   "cell_type": "code",
   "execution_count": null,
   "id": "35b00f76-0703-4fee-bb5d-06f9e092e661",
   "metadata": {
    "tags": []
   },
   "outputs": [],
   "source": [
    "display = Display()"
   ]
  },
  {
   "cell_type": "code",
   "execution_count": null,
   "id": "46b458e6-4ede-45ee-ab0f-f0b525e3ff6b",
   "metadata": {
    "tags": []
   },
   "outputs": [],
   "source": [
    "display.set_image(\"space-invader-1\")"
   ]
  },
  {
   "cell_type": "code",
   "execution_count": null,
   "id": "66bd4084-290e-4cd7-864f-255ef6d21841",
   "metadata": {},
   "outputs": [],
   "source": []
  }
 ],
 "metadata": {
  "kernelspec": {
   "display_name": "Python 3 (ipykernel)",
   "language": "python",
   "name": "python3"
  },
  "language_info": {
   "codemirror_mode": {
    "name": "ipython",
    "version": 3
   },
   "file_extension": ".py",
   "mimetype": "text/x-python",
   "name": "python",
   "nbconvert_exporter": "python",
   "pygments_lexer": "ipython3",
   "version": "3.9.2"
  }
 },
 "nbformat": 4,
 "nbformat_minor": 5
}
