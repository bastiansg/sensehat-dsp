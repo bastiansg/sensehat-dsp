{
 "cells": [
  {
   "cell_type": "code",
   "execution_count": null,
   "id": "80d2136a-60cd-4b13-a971-9fe8f475158f",
   "metadata": {
    "tags": []
   },
   "outputs": [],
   "source": [
    "import random\n",
    "\n",
    "from time import sleep\n",
    "from rich.progress import track\n",
    "\n",
    "from sensehat_dsp.display import Display\n",
    "from sensehat_dsp.meta.data_models import Image, IntermittentImage"
   ]
  },
  {
   "cell_type": "code",
   "execution_count": null,
   "id": "35b00f76-0703-4fee-bb5d-06f9e092e661",
   "metadata": {
    "tags": []
   },
   "outputs": [],
   "source": [
    "dsp = Display()\n",
    "image_names = list(dsp.images.keys())"
   ]
  },
  {
   "cell_type": "code",
   "execution_count": null,
   "id": "8f9dce43-a731-41c4-9bae-863ac81c861f",
   "metadata": {
    "tags": []
   },
   "outputs": [],
   "source": [
    "for image_name in track(dsp.images.keys(), description=\"\"):\n",
    "    image = Image(name=image_name)\n",
    "    dsp.set_image(image)\n",
    "    sleep(0.2)"
   ]
  },
  {
   "cell_type": "code",
   "execution_count": null,
   "id": "a72ecb6a-fe5f-4748-8ff5-5a704e986c32",
   "metadata": {
    "tags": []
   },
   "outputs": [],
   "source": [
    "image_name = random.choice(image_names)\n",
    "int_image = IntermittentImage(name=image_name, refresh_rate=0.5)\n",
    "dsp.start_intermittent_image(int_image)\n",
    "sleep(5)\n",
    "dsp.stop_intermittent_image()"
   ]
  },
  {
   "cell_type": "code",
   "execution_count": null,
   "id": "a3dd19d7-44b6-42bd-9a62-17538264b9eb",
   "metadata": {
    "tags": []
   },
   "outputs": [],
   "source": [
    "image_name = random.choice(image_names)\n",
    "image = Image(name=image_name)\n",
    "dsp.start_color_cycle(image)\n",
    "sleep(5)\n",
    "dsp.stop_color_cycle()"
   ]
  },
  {
   "cell_type": "code",
   "execution_count": 2,
   "id": "44f0a667-23d4-4566-b1da-54f3cf726386",
   "metadata": {
    "execution": {
     "iopub.execute_input": "2023-04-12T02:17:10.438973Z",
     "iopub.status.busy": "2023-04-12T02:17:10.435388Z",
     "iopub.status.idle": "2023-04-12T02:17:10.461841Z",
     "shell.execute_reply": "2023-04-12T02:17:10.455097Z",
     "shell.execute_reply.started": "2023-04-12T02:17:10.438791Z"
    },
    "tags": []
   },
   "outputs": [],
   "source": [
    "from itertools import cycle"
   ]
  },
  {
   "cell_type": "code",
   "execution_count": 4,
   "id": "a00f6590-b8cb-4de1-9324-64f53d354b38",
   "metadata": {
    "execution": {
     "iopub.execute_input": "2023-04-12T02:17:46.836882Z",
     "iopub.status.busy": "2023-04-12T02:17:46.836153Z",
     "iopub.status.idle": "2023-04-12T02:17:46.847179Z",
     "shell.execute_reply": "2023-04-12T02:17:46.844383Z",
     "shell.execute_reply.started": "2023-04-12T02:17:46.836821Z"
    },
    "tags": []
   },
   "outputs": [],
   "source": [
    "c = cycle(range(4))"
   ]
  },
  {
   "cell_type": "code",
   "execution_count": 17,
   "id": "cf2e2f71-dde7-4c24-be16-4fa8cbe0bd06",
   "metadata": {
    "execution": {
     "iopub.execute_input": "2023-04-12T02:17:55.529124Z",
     "iopub.status.busy": "2023-04-12T02:17:55.528236Z",
     "iopub.status.idle": "2023-04-12T02:17:55.542902Z",
     "shell.execute_reply": "2023-04-12T02:17:55.540248Z",
     "shell.execute_reply.started": "2023-04-12T02:17:55.529054Z"
    },
    "tags": []
   },
   "outputs": [
    {
     "data": {
      "text/plain": [
       "0"
      ]
     },
     "execution_count": 17,
     "metadata": {},
     "output_type": "execute_result"
    }
   ],
   "source": [
    "next(c)"
   ]
  }
 ],
 "metadata": {
  "kernelspec": {
   "display_name": "Python 3 (ipykernel)",
   "language": "python",
   "name": "python3"
  },
  "language_info": {
   "codemirror_mode": {
    "name": "ipython",
    "version": 3
   },
   "file_extension": ".py",
   "mimetype": "text/x-python",
   "name": "python",
   "nbconvert_exporter": "python",
   "pygments_lexer": "ipython3",
   "version": "3.9.2"
  }
 },
 "nbformat": 4,
 "nbformat_minor": 5
}
