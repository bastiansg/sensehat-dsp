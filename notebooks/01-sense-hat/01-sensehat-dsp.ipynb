{
 "cells": [
  {
   "cell_type": "code",
   "execution_count": null,
   "metadata": {},
   "outputs": [],
   "source": [
    "from time import sleep\n",
    "from rich.pretty import pprint\n",
    "from sensehat_dsp.display import Display, Image, Color, dsp_images"
   ]
  },
  {
   "cell_type": "code",
   "execution_count": null,
   "metadata": {},
   "outputs": [],
   "source": [
    "display = Display()"
   ]
  },
  {
   "cell_type": "code",
   "execution_count": null,
   "metadata": {},
   "outputs": [],
   "source": [
    "images = [Image(**dsp_image) for dsp_image in dsp_images]\n",
    "print(f\"images => {len(images)}\")\n",
    "pprint([(idx, image.name) for idx, image in enumerate(images)])"
   ]
  },
  {
   "cell_type": "code",
   "execution_count": null,
   "metadata": {},
   "outputs": [],
   "source": [
    "# display.set_image(image=images[0])\n",
    "# display.start_image_sequence(images=images[:5], refresh_rate=0.25)\n",
    "# display.start_color_cycle(image=images[0])\n",
    "display.start_gol(\n",
    "    p_color=Color(\n",
    "        r=128,\n",
    "        g=128,\n",
    "        b=128,\n",
    "    ),\n",
    "    s_color=Color(\n",
    "        r=0,\n",
    "        g=0,\n",
    "        b=0,\n",
    "    ),\n",
    ")\n",
    "\n",
    "# sleep(5)\n",
    "# display.stop()\n",
    "# display.clear()"
   ]
  },
  {
   "cell_type": "code",
   "execution_count": null,
   "metadata": {},
   "outputs": [],
   "source": [
    "display.stop()\n",
    "display.clear()"
   ]
  },
  {
   "cell_type": "code",
   "execution_count": null,
   "metadata": {},
   "outputs": [],
   "source": []
  }
 ],
 "metadata": {
  "kernelspec": {
   "display_name": "Python 3",
   "language": "python",
   "name": "python3"
  },
  "language_info": {
   "codemirror_mode": {
    "name": "ipython",
    "version": 3
   },
   "file_extension": ".py",
   "mimetype": "text/x-python",
   "name": "python",
   "nbconvert_exporter": "python",
   "pygments_lexer": "ipython3",
   "version": "3.11.2"
  }
 },
 "nbformat": 4,
 "nbformat_minor": 2
}
