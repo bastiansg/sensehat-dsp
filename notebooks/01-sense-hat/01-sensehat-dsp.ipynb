{
 "cells": [
  {
   "cell_type": "code",
   "execution_count": 1,
   "metadata": {},
   "outputs": [],
   "source": [
    "from sensehat_dsp.display import Display, Color"
   ]
  },
  {
   "cell_type": "code",
   "execution_count": 2,
   "metadata": {},
   "outputs": [],
   "source": [
    "display = Display()"
   ]
  },
  {
   "cell_type": "code",
   "execution_count": 3,
   "metadata": {},
   "outputs": [],
   "source": [
    "# display.start_color_cycle(\n",
    "#     image_name=\"space-invader-1\",\n",
    "# )\n",
    "\n",
    "# display.start_intermittent_image(\n",
    "#     image_name=\"space-invader-1\",\n",
    "#     refresh_rate=1,\n",
    "# )\n",
    "\n",
    "display.start_gol(\n",
    "    p_color=Color(r=128, g=128, b=128),\n",
    "    s_color=Color(r=0, g=0, b=0),\n",
    ")"
   ]
  },
  {
   "cell_type": "code",
   "execution_count": 4,
   "metadata": {},
   "outputs": [],
   "source": [
    "display.is_active = False\n",
    "display.clear()"
   ]
  },
  {
   "cell_type": "code",
   "execution_count": null,
   "metadata": {},
   "outputs": [],
   "source": []
  }
 ],
 "metadata": {
  "kernelspec": {
   "display_name": "Python 3",
   "language": "python",
   "name": "python3"
  },
  "language_info": {
   "codemirror_mode": {
    "name": "ipython",
    "version": 3
   },
   "file_extension": ".py",
   "mimetype": "text/x-python",
   "name": "python",
   "nbconvert_exporter": "python",
   "pygments_lexer": "ipython3",
   "version": "3.11.2"
  }
 },
 "nbformat": 4,
 "nbformat_minor": 2
}
