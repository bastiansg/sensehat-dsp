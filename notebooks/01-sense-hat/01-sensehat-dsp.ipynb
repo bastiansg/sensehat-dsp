{
 "cells": [
  {
   "cell_type": "code",
   "execution_count": 1,
   "metadata": {},
   "outputs": [],
   "source": [
    "from time import sleep\n",
    "from sensehat_dsp.display import Display, Color"
   ]
  },
  {
   "cell_type": "code",
   "execution_count": 2,
   "metadata": {},
   "outputs": [],
   "source": [
    "display = Display()"
   ]
  },
  {
   "cell_type": "code",
   "execution_count": 3,
   "metadata": {},
   "outputs": [],
   "source": [
    "# image_name = \"space-invader-1\"\n",
    "# image_name = \"space-invader-1a\"\n",
    "# image_name = \"space-invader-1b\"\n",
    "# image_name = \"space-invader-2\"\n",
    "# image_name = \"space-invader-3\"\n",
    "# image_name = \"space-invader-4\"\n",
    "# image_name = \"space-invader-5\"\n",
    "# image_name = \"left-arrow\"\n",
    "# image_name = \"right-arrow\"\n",
    "# image_name = \"up-arrow\"\n",
    "# image_name = \"down-arrow\"\n",
    "# image_name = \"heart\"\n",
    "# image_name = \"si-01\"\n",
    "# image_name = \"si-02\"\n",
    "# image_name = \"si-03\"\n",
    "# image_name = \"si-04\"\n",
    "image_name = \"si-04a\"\n",
    "# display.set_image(image_name=image_name)\n",
    "# display.start_intermittent_image(image_name=image_name)\n",
    "# display.start_color_cycle(image_name=\"space-invader-1a\")\n",
    "display.start_gol(\n",
    "    p_color=Color(\n",
    "        r=128,\n",
    "        g=128,\n",
    "        b=128,\n",
    "    ),\n",
    "    s_color=Color(\n",
    "        r=0,\n",
    "        g=0,\n",
    "        b=0,\n",
    "    ),\n",
    ")\n",
    "\n",
    "sleep(5)\n",
    "display.stop()\n",
    "display.clear()"
   ]
  },
  {
   "cell_type": "code",
   "execution_count": null,
   "metadata": {},
   "outputs": [],
   "source": []
  }
 ],
 "metadata": {
  "kernelspec": {
   "display_name": "Python 3",
   "language": "python",
   "name": "python3"
  },
  "language_info": {
   "codemirror_mode": {
    "name": "ipython",
    "version": 3
   },
   "file_extension": ".py",
   "mimetype": "text/x-python",
   "name": "python",
   "nbconvert_exporter": "python",
   "pygments_lexer": "ipython3",
   "version": "3.11.2"
  }
 },
 "nbformat": 4,
 "nbformat_minor": 2
}
